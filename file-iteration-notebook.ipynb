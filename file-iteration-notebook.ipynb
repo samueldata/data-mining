{
 "cells": [
  {
   "cell_type": "code",
   "execution_count": null,
   "id": "a018ae20",
   "metadata": {},
   "outputs": [],
   "source": [
    "# Code for Generating Text File from Excel Data\n",
    "\n",
    "import pandas as pd\n",
    "\n",
    "# Read the Excel file\n",
    "df = pd.read_excel('./input.xlsx')\n",
    "\n",
    "# Iterate through the DataFrame rows\n",
    "output = []\n",
    "for index, row in df.iterrows():\n",
    "    text = str(row['Text'])\n",
    "    value = str(row['Value'])\n",
    "    if text and value:\n",
    "        output.append(f'{value} = {text}')\n",
    "\n",
    "# Write the result to a text file\n",
    "with open('output.txt', 'w') as file:\n",
    "    file.write('\\n'.join(output))\n",
    "\n",
    "print('Text file generated successfully!')"
   ]
  },
  {
   "cell_type": "code",
   "execution_count": null,
   "id": "0ecd9939",
   "metadata": {},
   "outputs": [],
   "source": [
    "# Code for Removing Blank Lines from Generated Text File\n",
    "\n",
    "# Open the generated text file\n",
    "with open('output.txt', 'r') as file:\n",
    "    lines = file.readlines()\n",
    "\n",
    "# Remove blank lines\n",
    "lines = [line.strip() for line in lines if line.strip()]\n",
    "\n",
    "# Save lines without blank lines to a new file\n",
    "with open('output_clean.txt', 'w') as file:\n",
    "    file.write('\\n'.join(lines))\n",
    "\n",
    "print('Blank lines removed. New file \"output_clean.txt\" generated.')"
   ]
  },
  {
   "cell_type": "code",
   "execution_count": null,
   "id": "99bd4de1",
   "metadata": {},
   "outputs": [],
   "source": [
    "# Code for Generating JavaScript switch-case from \"output_clean.txt\"\n",
    "\n",
    "# Read the text file \"output_clean.txt\"\n",
    "with open('output_clean.txt', 'r') as file:\n",
    "    lines = file.readlines()\n",
    "\n",
    "# Create the JavaScript code\n",
    "js_code = 'switch_case = {\\n'\n",
    "for line in lines:\n",
    "    key, value = line.strip().split(' = ')\n",
    "    js_code += f'    \"{key}\": \"{value}\",\\n'\n",
    "js_code += '}'\n",
    "\n",
    "# Write the JavaScript code to a new file\n",
    "with open('switch_case.js', 'w') as file:\n",
    "    file.write(js_code)\n",
    "\n",
    "print('File switch_case.js generated successfully!')"
   ]
  }
 ],
 "metadata": {
  "kernelspec": {
   "display_name": "Python 3 (ipykernel)",
   "language": "python",
   "name": "python3"
  },
  "language_info": {
   "codemirror_mode": {
    "name": "ipython",
    "version": 3
   },
   "file_extension": ".py",
   "mimetype": "text/x-python",
   "name": "python",
   "nbconvert_exporter": "python",
   "pygments_lexer": "ipython3",
   "version": "3.9.7"
  }
 },
 "nbformat": 4,
 "nbformat_minor": 5
}
